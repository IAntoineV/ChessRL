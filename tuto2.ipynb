{
 "cells": [
  {
   "metadata": {},
   "cell_type": "markdown",
   "source": "# # Tutorial 2 : Training the model",
   "id": "556cc92b6d6a3a24"
  },
  {
   "metadata": {},
   "cell_type": "markdown",
   "source": [
    "To launch the training : \n",
    "\n",
    "Make sure that you defined the following .env variables : \n",
    "* PGN_DIR (directory containing all the games of strong player to use in training)\n",
    "* WANDB_KEY (wandb key that you can generate by creating an account)\n",
    "* MODEL_DIR (directory to save your model)\n",
    "\n",
    "You need a GPU to launch the training code and you can modify the model Hyperparameters directly in the training script at : src/models/bt4.py\n",
    "\n",
    "To launch the training, you just need to launch the src/models/bt4.py script."
   ],
   "id": "f4a23a9ef4eb48c6"
  },
  {
   "cell_type": "code",
   "execution_count": null,
   "id": "initial_id",
   "metadata": {
    "collapsed": true
   },
   "outputs": [],
   "source": [
    ""
   ]
  }
 ],
 "metadata": {
  "kernelspec": {
   "display_name": "Python 3",
   "language": "python",
   "name": "python3"
  },
  "language_info": {
   "codemirror_mode": {
    "name": "ipython",
    "version": 2
   },
   "file_extension": ".py",
   "mimetype": "text/x-python",
   "name": "python",
   "nbconvert_exporter": "python",
   "pygments_lexer": "ipython2",
   "version": "2.7.6"
  }
 },
 "nbformat": 4,
 "nbformat_minor": 5
}
