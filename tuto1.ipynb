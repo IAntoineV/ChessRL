{
 "cells": [
  {
   "cell_type": "markdown",
   "id": "346e38148ba6a279",
   "metadata": {},
   "source": [
    "# Tutorial 1 : Understand chess data processing"
   ]
  },
  {
   "cell_type": "markdown",
   "id": "4865802fa7c00303",
   "metadata": {},
   "source": [
    "## Format of data\n",
    "\n",
    "There are two ways to define a specific position in a chess game : \n",
    "* FEN format encode an entire position in one string.\n",
    "* list of moves starting from the beginning position. (can be found in PGN files format)"
   ]
  },
  {
   "cell_type": "markdown",
   "id": "8116d41eab0dd4e8",
   "metadata": {},
   "source": [
    "### FEN format\n"
   ]
  },
  {
   "cell_type": "code",
   "execution_count": null,
   "id": "initial_id",
   "metadata": {
    "collapsed": true
   },
   "outputs": [],
   "source": [
    "fen = \"r1bq1rk1/2pp1ppp/p1n2n2/2b1p3/1pP1P3/1B1P1N2/PP3PPP/RNBQR1K1 b - c3 0 9\" # Example of FEN\n",
    "link_to_analyse_fen = \"https://lichess.org/analysis\"\n",
    "### You should open Lichess and input this fen in the analysis tool (you should be able to reload a game from the given fen)"
   ]
  },
  {
   "cell_type": "markdown",
   "id": "f3cb230b59e19308",
   "metadata": {},
   "source": [
    "### List of moves"
   ]
  },
  {
   "cell_type": "code",
   "execution_count": null,
   "id": "660c1c380fe4cc5b",
   "metadata": {},
   "outputs": [],
   "source": [
    "from src.data_process.vocab import policy_index\n",
    "\n",
    "move_vocab = policy_index # All move token are stored in policy index a list of all tokens possible \n",
    "print(f'Number of move token : {len(move_vocab)}, \\n First tokens : {move_vocab[:50]}')"
   ]
  },
  {
   "cell_type": "code",
   "execution_count": null,
   "id": "acf5beb84d2596c2",
   "metadata": {},
   "outputs": [],
   "source": [
    "from src.data_process.vocab import policy_index\n",
    "moves = [1499,  187, 1221,  378, 1388,  319, 1060,  514, 1473,  134, 1694,  528,\n",
    "        1533, 1139, 1661, 1784, 1204, 1592, 1480,  616, 1509,  891, 1473, 1375,\n",
    "        1444, 1567,  749, 1496, 1193,    0,  506,  100, 1674,  980,  885,   81,\n",
    "         785, 1495,  846,  289,  583,  551,  367,   63,  256,  875, 1413,   40,\n",
    "        1206,  393,  931,  259,  726,  477,  942,  454, 1220,  726, 1486,  941,\n",
    "        1685, 1187,  903,  559, 1338,  831,  658, 1174, 1487, 1107, 1717,  742,\n",
    "        1742, 1349, 1709, 1846, 1473, 1754, 1206,  236,  929,  742,  667, 1285,\n",
    "         906, 1508,  929, 1042,  658, 1434,  452,  474,  668,  276,  933,  783,\n",
    "         903,   74,  667,  518,  903,  426,  668,  760,  940,   47, 1160,  964,\n",
    "        1421,  918, 1188, 1855, 1446, 1775, 1253,   19, 1514,  760, 1691, 1397,\n",
    "        1717,  974, 1743, 1511, 1768, 1249, 1791, 1379, 1768, 1568, 1791, 1791,\n",
    "        1768, 1541, 1791, 1594, 1767, 1568, 1742, 1539, 1716, 1509, 1690, 1480,\n",
    "        1664, 1504, 1638, 1307, 1614, 1095, 1638,  829, 1614, 1041, 1638, 1239,\n",
    "        1614,  961, 1638,  715, 1614,  478, 1638,  519, 1614,  791, 1638,  826,\n",
    "        1614,  861, 1638, 1104, 1614, 1123, 1638,  862, 1614, 1133, 1638, 1350,\n",
    "        1614, 1597, 1638, 1791, 1614,  695, 1638, 1594, 1614, 1759, 1638,  941] # The output of the model after argmax for instance\n",
    "\n",
    "for move in moves:\n",
    "    print(policy_index[move])"
   ]
  },
  {
   "cell_type": "markdown",
   "id": "e03880b1c329aed3",
   "metadata": {},
   "source": [
    "## Preprocessing of data\n",
    "\n",
    "### FEN for AI models\n",
    "\n",
    "from a given FEN, we create a data representation of the game usable for AI models."
   ]
  },
  {
   "cell_type": "code",
   "execution_count": null,
   "id": "890a8fe23b67cec",
   "metadata": {},
   "outputs": [],
   "source": [
    "from src.data_process.fen_encoder import fen_to_tensor\n",
    "\n",
    "encoding = fen_to_tensor(fen)\n",
    "print(f\"encoded shape : {encoding.shape} \\n It contains for each square a one hot representation of pieces + an encoding of available moves (like castle or en passant) \\n {encoding[1,2]} \\n IN ORDER : \\n-\\t piece present on the square **0-11**, \\n-\\t who to play (white or black) **12** \\n-\\t en passant available rule **13** \\n-\\t castling rights **14-17** \\n-\\t 50 move rules **18** \")"
   ]
  },
  {
   "cell_type": "markdown",
   "id": "ece23f3fb8d632f7",
   "metadata": {},
   "source": [
    "To use FEN as input data for our sequential models, we can use the FenEncoder class :"
   ]
  },
  {
   "cell_type": "code",
   "execution_count": null,
   "id": "6d0667b15994079b",
   "metadata": {},
   "outputs": [],
   "source": [
    "import torch\n",
    "from src.models.layers import FenEncoder\n",
    "d_model = 512\n",
    "model = FenEncoder(d_model)\n",
    "inp = torch.from_numpy(encoding).unsqueeze(0)\n",
    "out = model(inp)\n",
    "print(out.shape)  #  shoud be [1, 64, 512] (batch size =1, seq_len = 64, encoding_dim = 512)"
   ]
  },
  {
   "cell_type": "markdown",
   "id": "e8ff9cbfb409cf66",
   "metadata": {},
   "source": [
    "##"
   ]
  },
  {
   "cell_type": "markdown",
   "id": "9c3784e71e19f3d4",
   "metadata": {},
   "source": [
    "### Move list for AI models\n",
    "\n",
    "We can just use list of move tokens for sequential models."
   ]
  },
  {
   "cell_type": "code",
   "execution_count": null,
   "id": "3f4a62390842cf2f",
   "metadata": {},
   "outputs": [],
   "source": [
    "# import torch\n",
    "# from model import GPT,GPTConfig\n",
    "# from data.parse import dir_iterator, ParsingConfig\n",
    "\n",
    "\n",
    "# config = GPTConfig()\n",
    "# config.vocab_size = 1929\n",
    "# config.block_size = 256\n",
    "# model = GPT(config).to(\"cuda\")\n",
    "\n",
    "# dir_path = \"./pgn_data_example\"\n",
    "# parsing_config = ParsingConfig()\n",
    "# parsing_config.batch_size=2\n",
    "# parsing_config.padding_idx = config.vocab_size-1\n",
    "# gen = dir_iterator(dir_path,parsing_config, return_fen=False)\n",
    "# inp = next(gen)\n",
    "# print(f\"First elt of batch {inp[0].shape} corresponds to batch of encoded FEN, Second elt on batch corresponds to moves played after the position encoded as FEN : {inp[1].shape}. This list of moves is padded with a given index in parsing_config\" )\n",
    "# out = model(inp)[0]\n",
    "\n",
    "# print(out.shape)"
   ]
  },
  {
   "cell_type": "code",
   "execution_count": null,
   "id": "ef82a48c9ae3c50f",
   "metadata": {},
   "outputs": [],
   "source": []
  }
 ],
 "metadata": {
  "kernelspec": {
   "display_name": "torch",
   "language": "python",
   "name": "python3"
  },
  "language_info": {
   "codemirror_mode": {
    "name": "ipython",
    "version": 3
   },
   "file_extension": ".py",
   "mimetype": "text/x-python",
   "name": "python",
   "nbconvert_exporter": "python",
   "pygments_lexer": "ipython3",
   "version": "3.10.16"
  }
 },
 "nbformat": 4,
 "nbformat_minor": 5
}
